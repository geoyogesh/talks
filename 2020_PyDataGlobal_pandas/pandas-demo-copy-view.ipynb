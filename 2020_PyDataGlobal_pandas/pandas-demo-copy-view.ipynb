{
 "cells": [
  {
   "cell_type": "markdown",
   "metadata": {},
   "source": [
    "# Rethinking pandas' copy/view semantics\n",
    "\n",
    "aka *Death to the SettingWithCopyWarning* ;)\n"
   ]
  },
  {
   "cell_type": "code",
   "execution_count": null,
   "metadata": {},
   "outputs": [],
   "source": [
    "import pandas as pd"
   ]
  },
  {
   "cell_type": "markdown",
   "metadata": {},
   "source": [
    "## Problem 1: unclear copy/view semantics in indexing"
   ]
  },
  {
   "cell_type": "code",
   "execution_count": null,
   "metadata": {},
   "outputs": [],
   "source": [
    "df = pd.DataFrame({\"A\": [1, 2, 3], \"B\": [4, 5, 6]})"
   ]
  },
  {
   "cell_type": "code",
   "execution_count": null,
   "metadata": {},
   "outputs": [],
   "source": [
    "df"
   ]
  },
  {
   "cell_type": "code",
   "execution_count": null,
   "metadata": {},
   "outputs": [],
   "source": [
    "subset = df[[\"A\"]]\n",
    "# or\n",
    "# subset = df[df['A'] == 1]"
   ]
  },
  {
   "cell_type": "markdown",
   "metadata": {},
   "source": [
    "When the user modifies this subset:\n",
    "\n",
    "1. Did the user intent to modify `df` as well when modifying `subset`?    \n",
    "2. Or did the user just want to work further with `subset`, ignoring `df`?"
   ]
  },
  {
   "cell_type": "code",
   "execution_count": null,
   "metadata": {},
   "outputs": [],
   "source": [
    "subset.iloc[:, 0] = 10"
   ]
  },
  {
   "cell_type": "code",
   "execution_count": null,
   "metadata": {},
   "outputs": [],
   "source": [
    "df"
   ]
  },
  {
   "cell_type": "markdown",
   "metadata": {},
   "source": [
    "Original motivation for the SettingWithCopyWarning:"
   ]
  },
  {
   "cell_type": "code",
   "execution_count": null,
   "metadata": {},
   "outputs": [],
   "source": [
    "df[df['B'] > 4]['B'] = 10\n",
    "df"
   ]
  },
  {
   "cell_type": "code",
   "execution_count": null,
   "metadata": {},
   "outputs": [],
   "source": [
    "df['B'][df['B'] > 4] = 10\n",
    "df"
   ]
  },
  {
   "cell_type": "markdown",
   "metadata": {},
   "source": [
    "## Problem 2: wasteful copying\n",
    "\n",
    "Quoting Wes McKinney (from https://wesmckinney.com/blog/apache-arrow-pandas-internals/):\n",
    "\n",
    "\n",
    "<div style=\"font-size:120%\">\n",
    "\n",
    "> pandas rule of thumb: have 5 to 10 times as much RAM as the size of your dataset\n",
    "\n",
    "</div>"
   ]
  },
  {
   "cell_type": "code",
   "execution_count": null,
   "metadata": {},
   "outputs": [],
   "source": [
    "N = 1_000_000\n",
    "df = pd.DataFrame({\n",
    "    'key': np.arange(N),\n",
    "    'A': np.random.randn(N),\n",
    "    'B': np.random.randn(N),\n",
    "    'C': ['a', 'b', 'c', 'd'] * int(N/4),\n",
    "    'D': pd.date_range(\"2012\", periods=N, freq='T')\n",
    "})"
   ]
  },
  {
   "cell_type": "code",
   "execution_count": null,
   "metadata": {},
   "outputs": [],
   "source": [
    "df"
   ]
  },
  {
   "cell_type": "code",
   "execution_count": null,
   "metadata": {},
   "outputs": [],
   "source": [
    "%%timeit\n",
    "(df.rename(columns={\"D\": \"date\"})\n",
    "   .fillna({\"A\": np.nan})\n",
    "   .set_index(\"key\")\n",
    "   .loc[:, [\"date\", \"A\"]]\n",
    ")"
   ]
  },
  {
   "cell_type": "code",
   "execution_count": null,
   "metadata": {},
   "outputs": [],
   "source": [
    "%load_ext snakeviz"
   ]
  },
  {
   "cell_type": "code",
   "execution_count": null,
   "metadata": {},
   "outputs": [],
   "source": [
    "%%snakeviz\n",
    "(df.rename(columns={\"D\": \"date\"})\n",
    "   .fillna({\"A\": np.nan})\n",
    "   .set_index(\"key\")\n",
    "   .loc[:, [\"date\", \"A\"]]\n",
    ")"
   ]
  },
  {
   "cell_type": "code",
   "execution_count": null,
   "metadata": {},
   "outputs": [],
   "source": [
    "%timeit df.copy()"
   ]
  },
  {
   "cell_type": "code",
   "execution_count": null,
   "metadata": {},
   "outputs": [],
   "source": [
    "%timeit df.rename(columns={\"D\": \"date\"})"
   ]
  },
  {
   "cell_type": "markdown",
   "metadata": {},
   "source": [
    "## Can we do better?\n",
    "\n",
    "- Don't return copies in indexing (eg selecting columns) when not needed?\n",
    "- Don't always copy in methods like `set_index` or `rename`, but use \"Copy on Write\" ?\n",
    "- ...\n",
    "\n",
    "Currently being discussed in https://github.com/pandas-dev/pandas/issues/36195"
   ]
  },
  {
   "cell_type": "markdown",
   "metadata": {},
   "source": []
  }
 ],
 "metadata": {
  "kernelspec": {
   "display_name": "Python (pandas demo)",
   "language": "python",
   "name": "pandas-demo"
  },
  "language_info": {
   "codemirror_mode": {
    "name": "ipython",
    "version": 3
   },
   "file_extension": ".py",
   "mimetype": "text/x-python",
   "name": "python",
   "nbconvert_exporter": "python",
   "pygments_lexer": "ipython3",
   "version": "3.8.6"
  }
 },
 "nbformat": 4,
 "nbformat_minor": 4
}
